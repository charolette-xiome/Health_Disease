{
 "cells": [
  {
   "cell_type": "code",
   "execution_count": 2,
   "id": "4d7e4887-6605-4bac-9e1a-cb6782d5d72b",
   "metadata": {},
   "outputs": [
    {
     "ename": "SyntaxError",
     "evalue": "invalid decimal literal (2675618573.py, line 25)",
     "output_type": "error",
     "traceback": [
      "\u001b[1;36m  Cell \u001b[1;32mIn[2], line 25\u001b[1;36m\u001b[0m\n\u001b[1;33m    FROM `heart-disease-427115.mydataset.Heart-disease-data`)\u001b[0m\n\u001b[1;37m                              ^\u001b[0m\n\u001b[1;31mSyntaxError\u001b[0m\u001b[1;31m:\u001b[0m invalid decimal literal\n"
     ]
    }
   ],
   "source": [
    "#This is my model\n",
    "CREATE OR REPLACE MODEL mydataset.sample_model\n",
    "OPTIONS\n",
    "  (model_type='logistic_reg', labels=['target']) AS\n",
    "  WITH params AS (\n",
    "    SELECT\n",
    "    1 AS TRAIN,\n",
    "    2 AS EVAL\n",
    "    ),\n",
    "Heart_disease AS(\n",
    "  SELECT \n",
    "age AS Age,\n",
    "trestbps AS Blood_Pressure,\n",
    "chol AS Cholestrol,\n",
    "thalach AS Max_Heart_rate,\n",
    "sex AS Sex,\n",
    "fbs AS Fasting_bloodsugar,\n",
    "restecg AS ECG,\n",
    "oldpeak AS Oldpeak,\n",
    "exang AS exang,\n",
    "thal AS thal,\n",
    "slope AS slope,\n",
    "ca AS CA,\n",
    "target\n",
    "FROM `heart-disease-427115.mydataset.Heart-disease-data`)\n",
    "SELECT * FROM Heart_disease;\n",
    "\n",
    "\n",
    "\n",
    "\n",
    "\n",
    "\n",
    "#This is the code to evaluate the model\n",
    "SELECT *\n",
    "FROM\n",
    "  ML.EVALUATE(MODEL mydataset.sample_model,\n",
    "  (\n",
    "    WITH params AS (\n",
    "      SELECT 1 AS TRAIN, 2 AS EVAL\n",
    "    ),\n",
    "    Heart_disease AS (\n",
    "      SELECT \n",
    "        age AS Age,\n",
    "        trestbps AS Blood_Pressure,\n",
    "        chol AS Cholestrol,\n",
    "        thalach AS Max_Heart_rate,\n",
    "        sex AS Sex,\n",
    "        fbs AS Fasting_bloodsugar,\n",
    "        restecg AS ECG,\n",
    "        oldpeak AS Oldpeak,\n",
    "        exang AS exang,\n",
    "        thal AS thal,\n",
    "        slope AS slope,\n",
    "        ca AS CA,\n",
    "        target\n",
    "      FROM `heart-disease-427115.mydataset.Heart-disease-data`\n",
    "    )\n",
    "    SELECT * FROM Heart_disease\n",
    "  )\n",
    ");\n"
   ]
  },
  {
   "cell_type": "code",
   "execution_count": null,
   "id": "712de959-f458-44f9-a37d-6d13c2d78623",
   "metadata": {},
   "outputs": [],
   "source": []
  }
 ],
 "metadata": {
  "kernelspec": {
   "display_name": "Python 3 (ipykernel)",
   "language": "python",
   "name": "python3"
  },
  "language_info": {
   "codemirror_mode": {
    "name": "ipython",
    "version": 3
   },
   "file_extension": ".py",
   "mimetype": "text/x-python",
   "name": "python",
   "nbconvert_exporter": "python",
   "pygments_lexer": "ipython3",
   "version": "3.12.4"
  }
 },
 "nbformat": 4,
 "nbformat_minor": 5
}
